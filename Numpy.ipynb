{
 "cells": [
  {
   "cell_type": "markdown",
   "id": "0b1b7439-c234-45b1-b5c0-5dac7e3e79bd",
   "metadata": {},
   "source": [
    "# Numpy"
   ]
  },
  {
   "cell_type": "markdown",
   "id": "b3d7f7e1-4829-4069-9429-b9329f03dabf",
   "metadata": {},
   "source": [
    "**Objective:** My aim for this notebook is to learn about numpy library of python"
   ]
  },
  {
   "cell_type": "markdown",
   "id": "7c33ee6b-7d11-4fde-983f-a1ea546e6576",
   "metadata": {},
   "source": [
    "Before doing anything we gotta ensure to import numpy library."
   ]
  },
  {
   "cell_type": "code",
   "execution_count": 9,
   "id": "77c30d16-8bfd-493d-beec-47252fd85a52",
   "metadata": {},
   "outputs": [],
   "source": [
    "import numpy as np"
   ]
  },
  {
   "cell_type": "markdown",
   "id": "5ed7446d-b457-4a57-a7ff-c879bd53df80",
   "metadata": {},
   "source": [
    "Now we can try some basic numpy functions.\n",
    "Lets start with creating a numpy array."
   ]
  },
  {
   "cell_type": "code",
   "execution_count": 10,
   "id": "6cb92a69-5469-4199-aa3b-234580c290ba",
   "metadata": {},
   "outputs": [
    {
     "name": "stdout",
     "output_type": "stream",
     "text": [
      "[1 2 3 4]\n"
     ]
    }
   ],
   "source": [
    "a1= np.array([1,2,3,4])\n",
    "print(a1)"
   ]
  },
  {
   "cell_type": "markdown",
   "id": "89087dab-dd83-49fa-812a-4487786ed9ed",
   "metadata": {},
   "source": [
    "In the above example, we have used a very small number of elements.\n",
    "In case we want to create, lets say an array with thousand elements ranging from 0 to 99. We can use another numpy function *arange()*. Which is similar to the range() function of python."
   ]
  },
  {
   "cell_type": "code",
   "execution_count": 11,
   "id": "00de2779-7eef-4cd6-b0ff-4321b78681da",
   "metadata": {},
   "outputs": [
    {
     "name": "stdout",
     "output_type": "stream",
     "text": [
      "[ 0  1  2  3  4  5  6  7  8  9 10 11 12 13 14 15 16 17 18 19 20 21 22 23\n",
      " 24 25 26 27 28 29 30 31 32 33 34 35 36 37 38 39 40 41 42 43 44 45 46 47\n",
      " 48 49 50 51 52 53 54 55 56 57 58 59 60 61 62 63 64 65 66 67 68 69 70 71\n",
      " 72 73 74 75 76 77 78 79 80 81 82 83 84 85 86 87 88 89 90 91 92 93 94 95\n",
      " 96 97 98 99]\n"
     ]
    }
   ],
   "source": [
    "a2= np.arange(100)\n",
    "print(a2)"
   ]
  },
  {
   "cell_type": "markdown",
   "id": "532ca2a0-c282-4df9-aea5-e0fd3b8b8acd",
   "metadata": {},
   "source": [
    "&emsp;\n",
    "&emsp;\n",
    "&emsp;"
   ]
  },
  {
   "cell_type": "markdown",
   "id": "bb905247-8f39-4878-9e32-ebd8cdc04cdf",
   "metadata": {},
   "source": [
    "## Difference between python list and numpy array"
   ]
  },
  {
   "cell_type": "markdown",
   "id": "01252a71-fcd7-4403-ba65-5ec89eaa4e9d",
   "metadata": {},
   "source": [
    "Main benefits of using numpy array over python list are:\n",
    "1. numpy array is faster than python list\n",
    "2. numpy array occupies less memory\n",
    "3. convenient"
   ]
  },
  {
   "cell_type": "markdown",
   "id": "beed4adc-ee50-46b4-880a-a4405d4b4261",
   "metadata": {},
   "source": [
    "Now to prove that numpy array operations are faster than list. Lets import time library to measure the time consumed by each of them to add two sequence of 1000000 size."
   ]
  },
  {
   "cell_type": "code",
   "execution_count": 12,
   "id": "c14d0240-6b3d-493b-86e3-ea4c10a37c4b",
   "metadata": {},
   "outputs": [],
   "source": [
    "import time"
   ]
  },
  {
   "cell_type": "code",
   "execution_count": 13,
   "id": "4a2ae223-73f3-4ffb-be61-4049f65265ea",
   "metadata": {},
   "outputs": [],
   "source": [
    "size= 1000000\n",
    "\n",
    "l1= list(range(size))\n",
    "l2= list(range(size))\n",
    "\n",
    "arr1= np.arange(size)\n",
    "arr2= np.arange(size)"
   ]
  },
  {
   "cell_type": "markdown",
   "id": "053c43d3-4d56-48d0-a863-c948856bf12c",
   "metadata": {},
   "source": [
    "We have created two python lists of million size l1 and l2. And created two numpy array of million size as well.  \n",
    "Now lets try to add l1 & l2 and measure the time taken to do so. "
   ]
  },
  {
   "cell_type": "code",
   "execution_count": 15,
   "id": "1c362abe-d75e-47c3-8fb2-6b6be1a328af",
   "metadata": {},
   "outputs": [
    {
     "name": "stdout",
     "output_type": "stream",
     "text": [
      "Time taken to add two lists 130.54966926574707 ms\n"
     ]
    }
   ],
   "source": [
    "start= time.time()\n",
    "result= [(a + b) for a, b in zip(l1,l2)]\n",
    "stop= time.time()\n",
    "timeTaken= (stop- start)* 1000\n",
    "print(\"Time taken to add two lists\",timeTaken,\"ms\")"
   ]
  },
  {
   "cell_type": "markdown",
   "id": "194878f4-5b76-4958-af1c-b1f69da7cdd5",
   "metadata": {},
   "source": [
    "Now lets measure the time required to add to numpy arrays of same size as list."
   ]
  },
  {
   "cell_type": "code",
   "execution_count": 16,
   "id": "caa6507c",
   "metadata": {},
   "outputs": [
    {
     "name": "stdout",
     "output_type": "stream",
     "text": [
      "Time taken to add two numpy arrays is  23.33211898803711 ms\n"
     ]
    }
   ],
   "source": [
    "start= time.time()\n",
    "result= arr1+ arr2\n",
    "stop= time.time()\n",
    "timeTaken= (stop- start)* 1000\n",
    "print(\"Time taken to add two numpy arrays is \", timeTaken, \"ms\")"
   ]
  },
  {
   "cell_type": "code",
   "execution_count": null,
   "id": "e4cb8073",
   "metadata": {},
   "outputs": [],
   "source": []
  }
 ],
 "metadata": {
  "kernelspec": {
   "display_name": "Python 3 (ipykernel)",
   "language": "python",
   "name": "python3"
  },
  "language_info": {
   "codemirror_mode": {
    "name": "ipython",
    "version": 3
   },
   "file_extension": ".py",
   "mimetype": "text/x-python",
   "name": "python",
   "nbconvert_exporter": "python",
   "pygments_lexer": "ipython3",
   "version": "3.12.2"
  }
 },
 "nbformat": 4,
 "nbformat_minor": 5
}
