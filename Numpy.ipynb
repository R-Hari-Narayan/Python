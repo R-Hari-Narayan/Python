{
 "cells": [
  {
   "cell_type": "markdown",
   "id": "0b1b7439-c234-45b1-b5c0-5dac7e3e79bd",
   "metadata": {},
   "source": [
    "# Numpy"
   ]
  },
  {
   "cell_type": "markdown",
   "id": "b3d7f7e1-4829-4069-9429-b9329f03dabf",
   "metadata": {},
   "source": [
    "**Objective:** My aim for this notebook is to learn about numpy library of python"
   ]
  },
  {
   "cell_type": "markdown",
   "id": "7c33ee6b-7d11-4fde-983f-a1ea546e6576",
   "metadata": {},
   "source": [
    "Before doing anything we gotta ensure to import numpy library."
   ]
  },
  {
   "cell_type": "code",
   "execution_count": 1,
   "id": "77c30d16-8bfd-493d-beec-47252fd85a52",
   "metadata": {},
   "outputs": [],
   "source": [
    "import numpy as np"
   ]
  },
  {
   "cell_type": "markdown",
   "id": "5ed7446d-b457-4a57-a7ff-c879bd53df80",
   "metadata": {},
   "source": [
    "Now we can try some basic numpy functions.\n",
    "Lets start with creating a numpy array."
   ]
  },
  {
   "cell_type": "code",
   "execution_count": 2,
   "id": "6cb92a69-5469-4199-aa3b-234580c290ba",
   "metadata": {},
   "outputs": [
    {
     "name": "stdout",
     "output_type": "stream",
     "text": [
      "[1 2 3 4]\n"
     ]
    }
   ],
   "source": [
    "a1= np.array([1,2,3,4])\n",
    "print(a1)"
   ]
  },
  {
   "cell_type": "markdown",
   "id": "89087dab-dd83-49fa-812a-4487786ed9ed",
   "metadata": {},
   "source": [
    "In the above example, we have used a very small number of elements.\n",
    "In case we want to create, lets say an array with thousand elements ranging from 0 to 99. We can use another numpy function *arange()*. Which is similar to the range() function of python."
   ]
  },
  {
   "cell_type": "code",
   "execution_count": 3,
   "id": "00de2779-7eef-4cd6-b0ff-4321b78681da",
   "metadata": {},
   "outputs": [
    {
     "name": "stdout",
     "output_type": "stream",
     "text": [
      "[ 0  1  2  3  4  5  6  7  8  9 10 11 12 13 14 15 16 17 18 19 20 21 22 23\n",
      " 24 25 26 27 28 29 30 31 32 33 34 35 36 37 38 39 40 41 42 43 44 45 46 47\n",
      " 48 49 50 51 52 53 54 55 56 57 58 59 60 61 62 63 64 65 66 67 68 69 70 71\n",
      " 72 73 74 75 76 77 78 79 80 81 82 83 84 85 86 87 88 89 90 91 92 93 94 95\n",
      " 96 97 98 99]\n"
     ]
    }
   ],
   "source": [
    "a2= np.arange(100)\n",
    "print(a2)"
   ]
  },
  {
   "cell_type": "markdown",
   "id": "532ca2a0-c282-4df9-aea5-e0fd3b8b8acd",
   "metadata": {},
   "source": [
    "&emsp;\n",
    "&emsp;\n",
    "&emsp;"
   ]
  },
  {
   "cell_type": "markdown",
   "id": "bb905247-8f39-4878-9e32-ebd8cdc04cdf",
   "metadata": {},
   "source": [
    "## Difference between python list and numpy array"
   ]
  },
  {
   "cell_type": "markdown",
   "id": "01252a71-fcd7-4403-ba65-5ec89eaa4e9d",
   "metadata": {},
   "source": [
    "Main benefits of using numpy array over python list are:\n",
    "1. numpy array is faster than python list\n",
    "2. numpy array occupies less memory\n",
    "3. convenient"
   ]
  },
  {
   "cell_type": "markdown",
   "id": "beed4adc-ee50-46b4-880a-a4405d4b4261",
   "metadata": {},
   "source": [
    "### Numpy array vs list speed  \n",
    "Now to prove that numpy array operations are faster than list. Lets import time library to measure the time consumed by each of them to add two sequence of 1000000 size."
   ]
  },
  {
   "cell_type": "code",
   "execution_count": 4,
   "id": "c14d0240-6b3d-493b-86e3-ea4c10a37c4b",
   "metadata": {},
   "outputs": [],
   "source": [
    "import time"
   ]
  },
  {
   "cell_type": "code",
   "execution_count": 5,
   "id": "4a2ae223-73f3-4ffb-be61-4049f65265ea",
   "metadata": {},
   "outputs": [],
   "source": [
    "size= 1000000\n",
    "\n",
    "l1= list(range(size))\n",
    "l2= list(range(size))\n",
    "\n",
    "arr1= np.arange(size)\n",
    "arr2= np.arange(size)"
   ]
  },
  {
   "cell_type": "markdown",
   "id": "053c43d3-4d56-48d0-a863-c948856bf12c",
   "metadata": {},
   "source": [
    "We have created two python lists of million size l1 and l2. And created two numpy array of million size as well.  \n",
    "Now lets try to add l1 & l2 and measure the time taken to do so. "
   ]
  },
  {
   "cell_type": "code",
   "execution_count": 6,
   "id": "1c362abe-d75e-47c3-8fb2-6b6be1a328af",
   "metadata": {},
   "outputs": [
    {
     "name": "stdout",
     "output_type": "stream",
     "text": [
      "Time taken to add two lists 85.19792556762695 ms\n"
     ]
    }
   ],
   "source": [
    "start= time.time()\n",
    "result= [(a + b) for a, b in zip(l1,l2)]\n",
    "stop= time.time()\n",
    "timeTaken= (stop- start)* 1000\n",
    "print(\"Time taken to add two lists\",timeTaken,\"ms\")"
   ]
  },
  {
   "cell_type": "markdown",
   "id": "194878f4-5b76-4958-af1c-b1f69da7cdd5",
   "metadata": {},
   "source": [
    "Now lets measure the time required to add to numpy arrays of same size as list."
   ]
  },
  {
   "cell_type": "code",
   "execution_count": 7,
   "id": "caa6507c",
   "metadata": {},
   "outputs": [
    {
     "name": "stdout",
     "output_type": "stream",
     "text": [
      "Time taken to add two numpy arrays is  14.988899230957031 ms\n"
     ]
    }
   ],
   "source": [
    "start= time.time()\n",
    "result= arr1+ arr2\n",
    "stop= time.time()\n",
    "timeTaken= (stop- start)* 1000\n",
    "print(\"Time taken to add two numpy arrays is \", timeTaken, \"ms\")"
   ]
  },
  {
   "cell_type": "markdown",
   "id": "9154c6c0-5726-4414-916d-dde6d113d85f",
   "metadata": {},
   "source": [
    "### Numpy array vs list space   \n",
    "Ok now lets take a look at the amount of memory space required by both list and array to store same data."
   ]
  },
  {
   "cell_type": "code",
   "execution_count": 8,
   "id": "be7ea8b6-d528-4fa5-a38b-42f1d8e8d716",
   "metadata": {},
   "outputs": [],
   "source": [
    "import sys"
   ]
  },
  {
   "cell_type": "code",
   "execution_count": 9,
   "id": "214c01e4-5b10-467c-9192-c63d2e51c979",
   "metadata": {},
   "outputs": [
    {
     "name": "stdout",
     "output_type": "stream",
     "text": [
      "Size of list l1   :  28000000\n",
      "Size of array arr1:  4000000\n"
     ]
    }
   ],
   "source": [
    "print(\"Size of list l1   : \", sys.getsizeof(1)* len(l1))\n",
    "print(\"Size of array arr1: \", arr1.size* arr1.itemsize)"
   ]
  },
  {
   "cell_type": "markdown",
   "id": "7a62b266-e404-468f-a6af-f90270b3e748",
   "metadata": {},
   "source": [
    "So clearly list is occupying more memory"
   ]
  },
  {
   "cell_type": "markdown",
   "id": "a3e88a9d-382a-48e5-97b0-d278d3cb738c",
   "metadata": {},
   "source": [
    "### 2D array"
   ]
  },
  {
   "cell_type": "code",
   "execution_count": 10,
   "id": "961966d0-0327-476f-929d-4ec9dc09297b",
   "metadata": {},
   "outputs": [
    {
     "name": "stdout",
     "output_type": "stream",
     "text": [
      "[[1 2 3]\n",
      " [4 5 6]\n",
      " [7 8 9]]\n"
     ]
    }
   ],
   "source": [
    "a2d= np.array([[1,2,3],[4,5,6],[7,8,9]])\n",
    "print(a2d)"
   ]
  },
  {
   "cell_type": "markdown",
   "id": "8e03edb4-bf54-4150-8a78-f4146fa947da",
   "metadata": {},
   "source": [
    "### Some numpy functions:  \n",
    "1. ndim\n",
    "2. dtype\n",
    "3. itemsize\n",
    "4. arange\n",
    "5. linspace\n",
    "6. size\n",
    "7. shape\n",
    "8. reshape\n",
    "9. ravel\n",
    "10. min\n",
    "11. max\n",
    "12. sum\n",
    "13. sqrt\n",
    "14. std"
   ]
  },
  {
   "cell_type": "markdown",
   "id": "23f7b25b-560e-4ee8-8ef3-10e7893eb7d8",
   "metadata": {},
   "source": [
    "**ndim** function retruns the dimention of array"
   ]
  },
  {
   "cell_type": "code",
   "execution_count": 11,
   "id": "578899c1-60f9-44fe-a466-83fa2a920845",
   "metadata": {},
   "outputs": [
    {
     "name": "stdout",
     "output_type": "stream",
     "text": [
      "2\n"
     ]
    }
   ],
   "source": [
    "print(a2d.ndim)"
   ]
  },
  {
   "cell_type": "markdown",
   "id": "560e4d68-f1aa-4104-a2e1-f16d66279cf1",
   "metadata": {},
   "source": [
    "**dtype** function returns data type of array elements"
   ]
  },
  {
   "cell_type": "code",
   "execution_count": 12,
   "id": "73fe4c59-276c-4892-8150-778cc82b98cf",
   "metadata": {},
   "outputs": [
    {
     "name": "stdout",
     "output_type": "stream",
     "text": [
      "int32\n"
     ]
    }
   ],
   "source": [
    "print(a2d.dtype)"
   ]
  },
  {
   "cell_type": "code",
   "execution_count": 13,
   "id": "51654b09-6fee-494f-9143-f5c1b89dd18d",
   "metadata": {},
   "outputs": [
    {
     "name": "stdout",
     "output_type": "stream",
     "text": [
      "4\n"
     ]
    }
   ],
   "source": [
    "print(a2d.itemsize)"
   ]
  },
  {
   "cell_type": "markdown",
   "id": "1afaf832-514e-400c-9506-f8386a1726c0",
   "metadata": {},
   "source": [
    "We can also initialize an array with different data type"
   ]
  },
  {
   "cell_type": "code",
   "execution_count": 14,
   "id": "d76a7509-1c63-4fb7-8d7d-7bf6b56c0b87",
   "metadata": {},
   "outputs": [
    {
     "name": "stdout",
     "output_type": "stream",
     "text": [
      "[[1. 2. 3.]\n",
      " [4. 5. 6.]\n",
      " [7. 8. 9.]]\n"
     ]
    }
   ],
   "source": [
    "a2d= np.array([[1,2,3],[4,5,6],[7,8,9]], dtype= float)\n",
    "print(a2d)"
   ]
  },
  {
   "cell_type": "code",
   "execution_count": 15,
   "id": "65257aa2-e104-42ef-ac96-09004989c461",
   "metadata": {},
   "outputs": [
    {
     "name": "stdout",
     "output_type": "stream",
     "text": [
      "float64\n"
     ]
    }
   ],
   "source": [
    "print(a2d.dtype)"
   ]
  },
  {
   "cell_type": "code",
   "execution_count": 16,
   "id": "b7b5ea33-ce6e-4c46-8139-09d383f6e248",
   "metadata": {},
   "outputs": [
    {
     "name": "stdout",
     "output_type": "stream",
     "text": [
      "8\n"
     ]
    }
   ],
   "source": [
    "print(a2d.itemsize)"
   ]
  },
  {
   "cell_type": "markdown",
   "id": "6ca5812a-41da-4ddc-bb86-9821c40aea9e",
   "metadata": {},
   "source": [
    "**size** function returns the total number of elements in array"
   ]
  },
  {
   "cell_type": "code",
   "execution_count": 17,
   "id": "fe6e50a8-014f-4488-94cf-c2d7dbc907cb",
   "metadata": {},
   "outputs": [
    {
     "name": "stdout",
     "output_type": "stream",
     "text": [
      "9\n"
     ]
    }
   ],
   "source": [
    "print(a2d.size)"
   ]
  },
  {
   "cell_type": "markdown",
   "id": "87b31e68-25f7-48f4-97b3-95690adc299a",
   "metadata": {},
   "source": [
    "**shape** function returns the no of rows and columns"
   ]
  },
  {
   "cell_type": "code",
   "execution_count": 18,
   "id": "8c265c00-f534-4dda-b446-ef60587b37b7",
   "metadata": {},
   "outputs": [
    {
     "name": "stdout",
     "output_type": "stream",
     "text": [
      "(3, 3)\n"
     ]
    }
   ],
   "source": [
    "print(a2d.shape)"
   ]
  },
  {
   "cell_type": "markdown",
   "id": "b6b0eda3-0729-4fe2-bcb6-b4768a984436",
   "metadata": {},
   "source": [
    "**linspace** function is used to generate linearly spaced elements between any two numbers"
   ]
  },
  {
   "cell_type": "code",
   "execution_count": 19,
   "id": "c1d1c455-444a-49a9-9a8a-ee42a2ed27df",
   "metadata": {},
   "outputs": [
    {
     "name": "stdout",
     "output_type": "stream",
     "text": [
      "[1.         1.44444444 1.88888889 2.33333333 2.77777778 3.22222222\n",
      " 3.66666667 4.11111111 4.55555556 5.        ]\n"
     ]
    }
   ],
   "source": [
    "arr3= np.linspace(1,5,10)\n",
    "print(arr3)"
   ]
  },
  {
   "cell_type": "code",
   "execution_count": 20,
   "id": "d0b6fd65-4348-40f4-aeca-124f39a75955",
   "metadata": {},
   "outputs": [
    {
     "name": "stdout",
     "output_type": "stream",
     "text": [
      "[1.  1.5 2.  2.5 3.  3.5 4.  4.5]\n"
     ]
    }
   ],
   "source": [
    "arr4= np.arange(1,5,0.5)\n",
    "print(arr4)"
   ]
  },
  {
   "cell_type": "markdown",
   "id": "88695cfd-9075-48fa-ad6c-c94f29f3b40a",
   "metadata": {},
   "source": [
    "### The difference between linspace and arange  \n",
    "In linspace we specify the number of elements as third argument, and the function returns that many linearly spaced elements between the given range.  \n",
    "Whereas in arange we specify the increment size as third argument. As shown in above example."
   ]
  },
  {
   "cell_type": "markdown",
   "id": "42f0baa0-7df7-4616-b505-67ebf97a0370",
   "metadata": {},
   "source": [
    "`reshape()` function returns a new array with same items but different dimentions as per requirement"
   ]
  },
  {
   "cell_type": "code",
   "execution_count": 21,
   "id": "97672fdf-9441-440c-9b3d-d0362b0b0fdd",
   "metadata": {},
   "outputs": [
    {
     "name": "stdout",
     "output_type": "stream",
     "text": [
      "[[1.]\n",
      " [2.]\n",
      " [3.]\n",
      " [4.]\n",
      " [5.]\n",
      " [6.]\n",
      " [7.]\n",
      " [8.]\n",
      " [9.]]\n"
     ]
    }
   ],
   "source": [
    "print(a2d.reshape(9, 1))"
   ]
  },
  {
   "cell_type": "markdown",
   "id": "e9853657-3169-4285-873a-0738132dc470",
   "metadata": {},
   "source": [
    "`ravel()` function return a new array with all elements in a single row"
   ]
  },
  {
   "cell_type": "code",
   "execution_count": 22,
   "id": "a244356a-e4e4-4d84-8676-176601afd91f",
   "metadata": {},
   "outputs": [
    {
     "name": "stdout",
     "output_type": "stream",
     "text": [
      "[1. 2. 3. 4. 5. 6. 7. 8. 9.]\n"
     ]
    }
   ],
   "source": [
    "print(a2d.ravel())"
   ]
  },
  {
   "cell_type": "markdown",
   "id": "db9d5bf3-e90d-4ec8-92ca-059ec3ecd642",
   "metadata": {},
   "source": [
    "*Note:* Original array stays intact"
   ]
  },
  {
   "cell_type": "code",
   "execution_count": 23,
   "id": "2e7574a0-b84f-4b72-ba9c-857e6548cb97",
   "metadata": {},
   "outputs": [
    {
     "name": "stdout",
     "output_type": "stream",
     "text": [
      "[[1. 2. 3.]\n",
      " [4. 5. 6.]\n",
      " [7. 8. 9.]]\n"
     ]
    }
   ],
   "source": [
    "print(a2d)"
   ]
  },
  {
   "cell_type": "markdown",
   "id": "a55ef49d-95f6-4ca1-bc32-38b7f692e776",
   "metadata": {},
   "source": [
    "**min** function returns the smallest element of array"
   ]
  },
  {
   "cell_type": "code",
   "execution_count": 24,
   "id": "6bdd80e3-fd62-40dd-a339-bf1f3883c167",
   "metadata": {},
   "outputs": [
    {
     "name": "stdout",
     "output_type": "stream",
     "text": [
      "1.0\n"
     ]
    }
   ],
   "source": [
    "print(a2d.min())"
   ]
  },
  {
   "cell_type": "markdown",
   "id": "30404108-1e46-4c3b-a6e2-568388d1188b",
   "metadata": {},
   "source": [
    "**max** function returns the largest element of array"
   ]
  },
  {
   "cell_type": "code",
   "execution_count": 25,
   "id": "b6c22c32-bd1f-4df1-91c8-d68cdd76bf26",
   "metadata": {},
   "outputs": [
    {
     "name": "stdout",
     "output_type": "stream",
     "text": [
      "9.0\n"
     ]
    }
   ],
   "source": [
    "print(a2d.max())"
   ]
  },
  {
   "cell_type": "markdown",
   "id": "35702b14-f9e3-4768-a525-7c1c8089cbfb",
   "metadata": {},
   "source": [
    "**sum** function returns the sum of all elements if no arg passed.  \n",
    "if axis= 0, returns the sum of columns  \n",
    "if axis= 1, returns the sum of rows"
   ]
  },
  {
   "cell_type": "code",
   "execution_count": 26,
   "id": "75d2f18e-98be-429c-880f-71ce035cf874",
   "metadata": {},
   "outputs": [
    {
     "name": "stdout",
     "output_type": "stream",
     "text": [
      "45.0\n",
      "[12. 15. 18.]\n",
      "[ 6. 15. 24.]\n"
     ]
    }
   ],
   "source": [
    "print(a2d.sum())\n",
    "print(a2d.sum(axis= 0))    #Sum of column elements\n",
    "print(a2d.sum(axis= 1))    #Sum of rows elements"
   ]
  },
  {
   "cell_type": "markdown",
   "id": "be30903f-2a39-4eb8-99f4-efb2ffd74fb5",
   "metadata": {},
   "source": [
    "**sqrt** function returns an array with square root of each element"
   ]
  },
  {
   "cell_type": "code",
   "execution_count": 27,
   "id": "82e7a334-5e04-4f0a-bd48-f1a432fb958b",
   "metadata": {},
   "outputs": [
    {
     "name": "stdout",
     "output_type": "stream",
     "text": [
      "[[1.         1.41421356 1.73205081]\n",
      " [2.         2.23606798 2.44948974]\n",
      " [2.64575131 2.82842712 3.        ]]\n"
     ]
    }
   ],
   "source": [
    "print(np.sqrt(a2d))"
   ]
  },
  {
   "cell_type": "code",
   "execution_count": 28,
   "id": "7eee1bb1-a32b-4147-9973-7feeb057bd64",
   "metadata": {},
   "outputs": [
    {
     "name": "stdout",
     "output_type": "stream",
     "text": [
      "[[1. 2. 3.]\n",
      " [4. 5. 6.]\n",
      " [7. 8. 9.]]\n"
     ]
    }
   ],
   "source": [
    "print(a2d)"
   ]
  },
  {
   "cell_type": "markdown",
   "id": "9e99845e-077d-4cd8-b6d8-878b12d47768",
   "metadata": {},
   "source": [
    "**std** function returns the standard deviation of array"
   ]
  },
  {
   "cell_type": "code",
   "execution_count": 29,
   "id": "8638fd7d-dc3c-4a9b-8810-119d8312a4da",
   "metadata": {},
   "outputs": [
    {
     "name": "stdout",
     "output_type": "stream",
     "text": [
      "2.581988897471611\n"
     ]
    }
   ],
   "source": [
    "print(np.std(a2d))"
   ]
  },
  {
   "cell_type": "markdown",
   "id": "12c7cc93-8e9e-491c-b0fb-3ee8fe50b326",
   "metadata": {},
   "source": [
    "## Slicing arrays"
   ]
  },
  {
   "cell_type": "markdown",
   "id": "cb7a0c87-b2e2-414c-8014-71e635405230",
   "metadata": {},
   "source": [
    "Slicing arrays is similar to that of slicing list"
   ]
  },
  {
   "cell_type": "code",
   "execution_count": 32,
   "id": "cdd40a06-d086-4cdc-8571-e0077d8341d4",
   "metadata": {},
   "outputs": [
    {
     "name": "stdout",
     "output_type": "stream",
     "text": [
      "[23 12]\n"
     ]
    }
   ],
   "source": [
    "arr1= np.array([23,12,64])\n",
    "print(arr1[0:2])              #2 is not included"
   ]
  },
  {
   "cell_type": "markdown",
   "id": "e7758d0c-c9bb-4d3b-b9c6-99b8a0ad3515",
   "metadata": {},
   "source": [
    "### Slicing 2D array"
   ]
  },
  {
   "cell_type": "code",
   "execution_count": 33,
   "id": "d204f09a-6ea7-410c-8b81-3c172b96ac7a",
   "metadata": {},
   "outputs": [
    {
     "name": "stdout",
     "output_type": "stream",
     "text": [
      "[[7 8 9]\n",
      " [3 4 7]\n",
      " [2 9 4]]\n"
     ]
    }
   ],
   "source": [
    "a2d= np.array([[7,8,9],[3,4,7],[2,9,4]])\n",
    "print(a2d)"
   ]
  },
  {
   "cell_type": "code",
   "execution_count": 35,
   "id": "dc9ca184-8858-49a1-bd4d-6703cd8532fd",
   "metadata": {},
   "outputs": [
    {
     "name": "stdout",
     "output_type": "stream",
     "text": [
      "[7 8 9]\n"
     ]
    }
   ],
   "source": [
    "print(a2d[0])   #Prints 0th row"
   ]
  },
  {
   "cell_type": "code",
   "execution_count": 38,
   "id": "80dc749d-4079-4262-b7ad-a1db5052c2d0",
   "metadata": {},
   "outputs": [
    {
     "name": "stdout",
     "output_type": "stream",
     "text": [
      "[7 3 2]\n"
     ]
    }
   ],
   "source": [
    "print(a2d[:,0]) #Prints 0th column"
   ]
  },
  {
   "cell_type": "code",
   "execution_count": 41,
   "id": "9857831c-5089-4851-bef9-746ef3ef1ec1",
   "metadata": {},
   "outputs": [
    {
     "name": "stdout",
     "output_type": "stream",
     "text": [
      "7\n"
     ]
    }
   ],
   "source": [
    "print(a2d[1,2]) #Prints element at 1st row 2nd column\n",
    "                #Note: python index starts from 0"
   ]
  },
  {
   "cell_type": "code",
   "execution_count": 42,
   "id": "5968671b-8e06-41c3-9bb8-55337d6d30d7",
   "metadata": {},
   "outputs": [
    {
     "name": "stdout",
     "output_type": "stream",
     "text": [
      "[[4 7]\n",
      " [9 4]]\n"
     ]
    }
   ],
   "source": [
    "print(a2d[1:3,1:3]) #prints elements of 1st & 2nd row from 1st and 2nd columns"
   ]
  },
  {
   "cell_type": "markdown",
   "id": "b03eb343-d07d-4b2a-8209-552bc16c6ce7",
   "metadata": {},
   "source": [
    "### Stacking arrays"
   ]
  },
  {
   "cell_type": "code",
   "execution_count": 44,
   "id": "670c8be0-15d8-41e0-838d-873823ebd5f5",
   "metadata": {},
   "outputs": [
    {
     "name": "stdout",
     "output_type": "stream",
     "text": [
      "[[0 1 2]\n",
      " [3 4 5]] \n",
      "\n",
      "[[ 6  7  8]\n",
      " [ 9 10 11]]\n"
     ]
    }
   ],
   "source": [
    "arr1= np.arange(6).reshape(2,3);\n",
    "arr2= np.arange(6,12).reshape(2,3);\n",
    "print(arr1, \"\\n\")\n",
    "print(arr2)"
   ]
  },
  {
   "cell_type": "markdown",
   "id": "55862af6-2809-4dea-af9a-48b4924d20c6",
   "metadata": {},
   "source": [
    "**hstack**: horizontally stacks two arrays"
   ]
  },
  {
   "cell_type": "code",
   "execution_count": 47,
   "id": "d60db789-0f87-4502-ae17-ebf74aaa275e",
   "metadata": {},
   "outputs": [
    {
     "name": "stdout",
     "output_type": "stream",
     "text": [
      "[[ 0  1  2  6  7  8]\n",
      " [ 3  4  5  9 10 11]]\n"
     ]
    }
   ],
   "source": [
    "print(np.hstack((arr1, arr2)))"
   ]
  },
  {
   "cell_type": "markdown",
   "id": "33d86887-5e11-4ebe-8007-baff84827487",
   "metadata": {},
   "source": [
    "**vstack**: vertically stacks two arrays"
   ]
  },
  {
   "cell_type": "code",
   "execution_count": 48,
   "id": "73844fe4-9f20-44b8-93f8-12fd8feabd0e",
   "metadata": {},
   "outputs": [
    {
     "name": "stdout",
     "output_type": "stream",
     "text": [
      "[[ 0  1  2]\n",
      " [ 3  4  5]\n",
      " [ 6  7  8]\n",
      " [ 9 10 11]]\n"
     ]
    }
   ],
   "source": [
    "print(np.vstack((arr1,arr2)))"
   ]
  },
  {
   "cell_type": "markdown",
   "id": "c5354b2a-9fb3-49ca-b924-75807e724823",
   "metadata": {},
   "source": [
    "### Spliting arrays"
   ]
  },
  {
   "cell_type": "code",
   "execution_count": 49,
   "id": "bc05199f-7b0d-48e9-800f-8db17e494f70",
   "metadata": {},
   "outputs": [
    {
     "name": "stdout",
     "output_type": "stream",
     "text": [
      "[[ 0  1  2  3  4  5  6  7  8  9]\n",
      " [10 11 12 13 14 15 16 17 18 19]\n",
      " [20 21 22 23 24 25 26 27 28 29]\n",
      " [30 31 32 33 34 35 36 37 38 39]]\n"
     ]
    }
   ],
   "source": [
    "arr= np.arange(40).reshape(4,10)\n",
    "print(arr)"
   ]
  },
  {
   "cell_type": "code",
   "execution_count": 53,
   "id": "28c7a8bf-1b4a-4785-9695-cdb0459d7bf3",
   "metadata": {},
   "outputs": [
    {
     "name": "stdout",
     "output_type": "stream",
     "text": [
      "[[ 0  1  2  3  4]\n",
      " [10 11 12 13 14]\n",
      " [20 21 22 23 24]\n",
      " [30 31 32 33 34]]\n",
      "\n",
      "\n",
      "[[ 5  6  7  8  9]\n",
      " [15 16 17 18 19]\n",
      " [25 26 27 28 29]\n",
      " [35 36 37 38 39]]\n"
     ]
    }
   ],
   "source": [
    "x= np.hsplit(arr, 2)\n",
    "print(x[0])\n",
    "print(\"\\n\")\n",
    "print(x[1])"
   ]
  },
  {
   "cell_type": "code",
   "execution_count": 55,
   "id": "aa987661-fcae-4985-9c08-c5ad1a106573",
   "metadata": {},
   "outputs": [
    {
     "name": "stdout",
     "output_type": "stream",
     "text": [
      "[[ 0  1  2  3  4  5  6  7  8  9]\n",
      " [10 11 12 13 14 15 16 17 18 19]] \n",
      "\n",
      "[[20 21 22 23 24 25 26 27 28 29]\n",
      " [30 31 32 33 34 35 36 37 38 39]]\n"
     ]
    }
   ],
   "source": [
    "y= np.vsplit(arr, 2)\n",
    "print(y[0], \"\\n\")\n",
    "print(y[1])"
   ]
  },
  {
   "cell_type": "markdown",
   "id": "41141a75-dfed-4a2b-94cb-956d0f6a6a45",
   "metadata": {},
   "source": [
    "### Boolean arrays"
   ]
  },
  {
   "cell_type": "code",
   "execution_count": 58,
   "id": "ea1bf8c1-c8d5-4143-9d11-ea4b2a7cd4a7",
   "metadata": {},
   "outputs": [
    {
     "name": "stdout",
     "output_type": "stream",
     "text": [
      "[[ 0  1  2  3]\n",
      " [ 4  5  6  7]\n",
      " [ 8  9 10 11]]\n"
     ]
    }
   ],
   "source": [
    "a= np.arange(12).reshape(3,4)\n",
    "print(arr)"
   ]
  },
  {
   "cell_type": "code",
   "execution_count": 59,
   "id": "27a73244-e3bc-4114-b12f-2e2705ae2cd7",
   "metadata": {},
   "outputs": [
    {
     "name": "stdout",
     "output_type": "stream",
     "text": [
      "[[False False False False]\n",
      " [False  True  True  True]\n",
      " [ True  True  True  True]]\n"
     ]
    }
   ],
   "source": [
    "b= a>4\n",
    "print(b)"
   ]
  },
  {
   "cell_type": "code",
   "execution_count": 60,
   "id": "4d8c9010-a676-448a-8023-2fd7332d4842",
   "metadata": {},
   "outputs": [
    {
     "name": "stdout",
     "output_type": "stream",
     "text": [
      "[ 5  6  7  8  9 10 11]\n"
     ]
    }
   ],
   "source": [
    "print(a[b])"
   ]
  },
  {
   "cell_type": "code",
   "execution_count": 62,
   "id": "0531b295-6dfb-4b94-a407-5e1ea675c030",
   "metadata": {},
   "outputs": [
    {
     "name": "stdout",
     "output_type": "stream",
     "text": [
      "[[ 0  1  2  3]\n",
      " [ 4 -1 -1 -1]\n",
      " [-1 -1 -1 -1]]\n"
     ]
    }
   ],
   "source": [
    "a[b]= -1\n",
    "print(a)"
   ]
  }
 ],
 "metadata": {
  "kernelspec": {
   "display_name": "Python 3 (ipykernel)",
   "language": "python",
   "name": "python3"
  },
  "language_info": {
   "codemirror_mode": {
    "name": "ipython",
    "version": 3
   },
   "file_extension": ".py",
   "mimetype": "text/x-python",
   "name": "python",
   "nbconvert_exporter": "python",
   "pygments_lexer": "ipython3",
   "version": "3.12.2"
  }
 },
 "nbformat": 4,
 "nbformat_minor": 5
}
